{
 "cells": [
  {
   "cell_type": "code",
   "execution_count": 74,
   "metadata": {},
   "outputs": [],
   "source": [
    "import pandas as pd\n",
    "import numpy as np\n",
    "from collections import defaultdict\n",
    "from surprise import Reader\n",
    "from surprise import KNNBasic\n",
    "from surprise import Dataset\n",
    "from surprise.model_selection import cross_validate"
   ]
  },
  {
   "cell_type": "code",
   "execution_count": 211,
   "metadata": {},
   "outputs": [],
   "source": [
    "#Reading the anime file which would be used for testing the trained model\n",
    "anime = pd.read_csv('anime.csv')"
   ]
  },
  {
   "cell_type": "code",
   "execution_count": 212,
   "metadata": {},
   "outputs": [],
   "source": [
    "check = pd.read_csv('anime.csv')\n",
    "check.set_index('anime_id',inplace = True) #This is for displaying the title based on the anime-id predicted by out model"
   ]
  },
  {
   "cell_type": "code",
   "execution_count": 215,
   "metadata": {},
   "outputs": [],
   "source": [
    "#dropping off some columns\n",
    "file = anime.drop(['episodes','members','name','genre','type'], axis = 1)"
   ]
  },
  {
   "cell_type": "code",
   "execution_count": 216,
   "metadata": {},
   "outputs": [],
   "source": [
    "#Reading the training data\n",
    "rating = pd.read_csv('rating.csv')"
   ]
  },
  {
   "cell_type": "code",
   "execution_count": 217,
   "metadata": {},
   "outputs": [],
   "source": [
    "df = rating.loc[0:50000] #Selecting a portion of data_set to avoid memory error"
   ]
  },
  {
   "cell_type": "code",
   "execution_count": 218,
   "metadata": {},
   "outputs": [],
   "source": [
    "dz = df.drop(['anime_id','rating'], axis = 1) # selecting user_id from the rating data and merging it with the anime_data to form a new test data\n",
    "dz = dz\n",
    ".loc[0:12293]"
   ]
  },
  {
   "cell_type": "code",
   "execution_count": 219,
   "metadata": {},
   "outputs": [],
   "source": [
    "file['user_id'] = dz"
   ]
  },
  {
   "cell_type": "code",
   "execution_count": 220,
   "metadata": {},
   "outputs": [
    {
     "data": {
      "text/html": [
       "<div>\n",
       "<style scoped>\n",
       "    .dataframe tbody tr th:only-of-type {\n",
       "        vertical-align: middle;\n",
       "    }\n",
       "\n",
       "    .dataframe tbody tr th {\n",
       "        vertical-align: top;\n",
       "    }\n",
       "\n",
       "    .dataframe thead th {\n",
       "        text-align: right;\n",
       "    }\n",
       "</style>\n",
       "<table border=\"1\" class=\"dataframe\">\n",
       "  <thead>\n",
       "    <tr style=\"text-align: right;\">\n",
       "      <th></th>\n",
       "      <th>anime_id</th>\n",
       "      <th>rating</th>\n",
       "      <th>user_id</th>\n",
       "    </tr>\n",
       "  </thead>\n",
       "  <tbody>\n",
       "    <tr>\n",
       "      <th>0</th>\n",
       "      <td>32281</td>\n",
       "      <td>9.37</td>\n",
       "      <td>1</td>\n",
       "    </tr>\n",
       "    <tr>\n",
       "      <th>1</th>\n",
       "      <td>5114</td>\n",
       "      <td>9.26</td>\n",
       "      <td>1</td>\n",
       "    </tr>\n",
       "    <tr>\n",
       "      <th>2</th>\n",
       "      <td>28977</td>\n",
       "      <td>9.25</td>\n",
       "      <td>1</td>\n",
       "    </tr>\n",
       "    <tr>\n",
       "      <th>3</th>\n",
       "      <td>9253</td>\n",
       "      <td>9.17</td>\n",
       "      <td>1</td>\n",
       "    </tr>\n",
       "    <tr>\n",
       "      <th>4</th>\n",
       "      <td>9969</td>\n",
       "      <td>9.16</td>\n",
       "      <td>1</td>\n",
       "    </tr>\n",
       "    <tr>\n",
       "      <th>...</th>\n",
       "      <td>...</td>\n",
       "      <td>...</td>\n",
       "      <td>...</td>\n",
       "    </tr>\n",
       "    <tr>\n",
       "      <th>12289</th>\n",
       "      <td>9316</td>\n",
       "      <td>4.15</td>\n",
       "      <td>159</td>\n",
       "    </tr>\n",
       "    <tr>\n",
       "      <th>12290</th>\n",
       "      <td>5543</td>\n",
       "      <td>4.28</td>\n",
       "      <td>159</td>\n",
       "    </tr>\n",
       "    <tr>\n",
       "      <th>12291</th>\n",
       "      <td>5621</td>\n",
       "      <td>4.88</td>\n",
       "      <td>159</td>\n",
       "    </tr>\n",
       "    <tr>\n",
       "      <th>12292</th>\n",
       "      <td>6133</td>\n",
       "      <td>4.98</td>\n",
       "      <td>159</td>\n",
       "    </tr>\n",
       "    <tr>\n",
       "      <th>12293</th>\n",
       "      <td>26081</td>\n",
       "      <td>5.46</td>\n",
       "      <td>159</td>\n",
       "    </tr>\n",
       "  </tbody>\n",
       "</table>\n",
       "<p>12294 rows × 3 columns</p>\n",
       "</div>"
      ],
      "text/plain": [
       "       anime_id  rating  user_id\n",
       "0         32281    9.37        1\n",
       "1          5114    9.26        1\n",
       "2         28977    9.25        1\n",
       "3          9253    9.17        1\n",
       "4          9969    9.16        1\n",
       "...         ...     ...      ...\n",
       "12289      9316    4.15      159\n",
       "12290      5543    4.28      159\n",
       "12291      5621    4.88      159\n",
       "12292      6133    4.98      159\n",
       "12293     26081    5.46      159\n",
       "\n",
       "[12294 rows x 3 columns]"
      ]
     },
     "execution_count": 220,
     "metadata": {},
     "output_type": "execute_result"
    }
   ],
   "source": [
    "file #file = test_data"
   ]
  },
  {
   "cell_type": "code",
   "execution_count": 221,
   "metadata": {},
   "outputs": [],
   "source": [
    "# Construct reader\n",
    "reader = Reader(rating_scale=(1, 5))\n",
    "\n",
    "# Generate surprise Dataset\n",
    "data = Dataset.load_from_df(df[['user_id', 'anime_id', 'rating']], reader)\n",
    "\n",
    "test_data = Dataset.load_from_df(file[['user_id', 'anime_id', 'rating']], reader)"
   ]
  },
  {
   "cell_type": "code",
   "execution_count": 222,
   "metadata": {},
   "outputs": [
    {
     "name": "stdout",
     "output_type": "stream",
     "text": [
      "Computing the msd similarity matrix...\n",
      "Done computing similarity matrix.\n"
     ]
    },
    {
     "data": {
      "text/plain": [
       "<surprise.prediction_algorithms.knns.KNNBasic at 0x14196903f98>"
      ]
     },
     "execution_count": 222,
     "metadata": {},
     "output_type": "execute_result"
    }
   ],
   "source": [
    "# Set all data as training set\n",
    "trainset = data.build_full_trainset()\n",
    "testset = test_data.build_full_trainset()\n",
    "\n",
    "# Build and train an algorithm.\n",
    "\n",
    "sim_options = {\n",
    "               'user_based': True  # compute  similarities between items\n",
    "}\n",
    "\n",
    "algo = KNNBasic(sim_options=sim_options)\n",
    "algo.fit(trainset)"
   ]
  },
  {
   "cell_type": "code",
   "execution_count": 223,
   "metadata": {},
   "outputs": [],
   "source": [
    "user_id = 13;\n",
    "anime_id = 177;"
   ]
  },
  {
   "cell_type": "code",
   "execution_count": 224,
   "metadata": {},
   "outputs": [
    {
     "name": "stdout",
     "output_type": "stream",
     "text": [
      "user: 13         item: 177        r_ui = None   est = 1.00   {'actual_k': 21, 'was_impossible': False}\n"
     ]
    }
   ],
   "source": [
    "pred = algo.predict(user_id, anime_id, verbose=True)"
   ]
  },
  {
   "cell_type": "code",
   "execution_count": 225,
   "metadata": {},
   "outputs": [],
   "source": [
    "testset = testset.build_anti_testset()\n",
    "predictions = algo.test(testset)\n"
   ]
  },
  {
   "cell_type": "code",
   "execution_count": 237,
   "metadata": {},
   "outputs": [
    {
     "name": "stdout",
     "output_type": "stream",
     "text": [
      "[Prediction(uid=1, iid=1842, r_ui=nan, est=3.217630432765621, details={'actual_k': 7, 'was_impossible': False}), Prediction(uid=1, iid=6336, r_ui=nan, est=5, details={'actual_k': 7, 'was_impossible': False}), Prediction(uid=1, iid=20651, r_ui=nan, est=2.2033199309788727, details={'actual_k': 10, 'was_impossible': False}), Prediction(uid=1, iid=1210, r_ui=nan, est=2.0738017232008636, details={'actual_k': 40, 'was_impossible': False}), Prediction(uid=1, iid=338, r_ui=nan, est=5, details={'actual_k': 3, 'was_impossible': False}), Prediction(uid=1, iid=13759, r_ui=nan, est=1, details={'actual_k': 40, 'was_impossible': False}), Prediction(uid=1, iid=6547, r_ui=nan, est=1, details={'actual_k': 40, 'was_impossible': False}), Prediction(uid=1, iid=5081, r_ui=nan, est=1.0972699602287912, details={'actual_k': 40, 'was_impossible': False}), Prediction(uid=1, iid=32867, r_ui=nan, est=5, details={'was_impossible': True, 'reason': 'User and/or item is unkown.'}), Prediction(uid=1, iid=264, r_ui=nan, est=3.0798612694916656, details={'actual_k': 10, 'was_impossible': False})]\n"
     ]
    }
   ],
   "source": [
    "print(predictions[0:10])"
   ]
  },
  {
   "cell_type": "code",
   "execution_count": 236,
   "metadata": {
    "scrolled": true
   },
   "outputs": [
    {
     "name": "stdout",
     "output_type": "stream",
     "text": [
      "2 [name                              Kimi no Na wa.\n",
      "genre       Drama, Romance, School, Supernatural\n",
      "type                                       Movie\n",
      "episodes                                       1\n",
      "rating                                      9.37\n",
      "members                                   200630\n",
      "Name: 32281, dtype: object, name                         Fullmetal Alchemist: Brotherhood\n",
      "genre       Action, Adventure, Drama, Fantasy, Magic, Mili...\n",
      "type                                                       TV\n",
      "episodes                                                   64\n",
      "rating                                                   9.26\n",
      "members                                                793665\n",
      "Name: 5114, dtype: object, name                                                 Gintama°\n",
      "genre       Action, Comedy, Historical, Parody, Samurai, S...\n",
      "type                                                       TV\n",
      "episodes                                                   51\n",
      "rating                                                   9.25\n",
      "members                                                114262\n",
      "Name: 28977, dtype: object, name             Steins;Gate\n",
      "genre       Sci-Fi, Thriller\n",
      "type                      TV\n",
      "episodes                  24\n",
      "rating                  9.17\n",
      "members               673572\n",
      "Name: 9253, dtype: object, name                                            Gintama&#039;\n",
      "genre       Action, Comedy, Historical, Parody, Samurai, S...\n",
      "type                                                       TV\n",
      "episodes                                                   51\n",
      "rating                                                   9.16\n",
      "members                                                151266\n",
      "Name: 9969, dtype: object, name        Haikyuu!!: Karasuno Koukou VS Shiratorizawa Ga...\n",
      "genre                  Comedy, Drama, School, Shounen, Sports\n",
      "type                                                       TV\n",
      "episodes                                                   10\n",
      "rating                                                   9.15\n",
      "members                                                 93351\n",
      "Name: 32935, dtype: object, name                         Hunter x Hunter (2011)\n",
      "genre       Action, Adventure, Shounen, Super Power\n",
      "type                                             TV\n",
      "episodes                                        148\n",
      "rating                                         9.13\n",
      "members                                      425855\n",
      "Name: 11061, dtype: object, name                  Ginga Eiyuu Densetsu\n",
      "genre       Drama, Military, Sci-Fi, Space\n",
      "type                                   OVA\n",
      "episodes                               110\n",
      "rating                                9.11\n",
      "members                              80679\n",
      "Name: 820, dtype: object, name        Gintama Movie: Kanketsu-hen - Yorozuya yo Eien...\n",
      "genre       Action, Comedy, Historical, Parody, Samurai, S...\n",
      "type                                                    Movie\n",
      "episodes                                                    1\n",
      "rating                                                    9.1\n",
      "members                                                 72534\n",
      "Name: 15335, dtype: object, name                                 Gintama&#039;: Enchousen\n",
      "genre       Action, Comedy, Historical, Parody, Samurai, S...\n",
      "type                                                       TV\n",
      "episodes                                                   13\n",
      "rating                                                   9.11\n",
      "members                                                 81109\n",
      "Name: 15417, dtype: object]\n"
     ]
    }
   ],
   "source": [
    "# This block copied from Surprise documentation at\n",
    "# http://surprise.readthedocs.io/en/stable/FAQ.html#how-to-get-the-top-n-recommendations-for-each-user\n",
    "\n",
    "def get_top_n(predictions, n=10):\n",
    "    '''Return the top-N recommendation for each user from a set of predictions.\n",
    "\n",
    "    Args:\n",
    "        predictions(list of Prediction objects): The list of predictions, as\n",
    "            returned by the test method of an algorithm.\n",
    "        n(int): The number of recommendation to output for each user. Default\n",
    "            is 10.\n",
    "\n",
    "    Returns:\n",
    "    A dict where keys are user (raw) ids and values are lists of tuples:\n",
    "        [(raw item id, rating estimation), ...] of size n.\n",
    "    '''\n",
    "\n",
    "    # First map the predictions to each user.\n",
    "    top_n = defaultdict(list)\n",
    "    for uid, iid, true_r, est, _ in predictions:\n",
    "        top_n[uid].append((iid, est))\n",
    "\n",
    "    # Then sort the predictions for each user and retrieve the k highest ones.\n",
    "    for uid, user_ratings in top_n.items():\n",
    "        user_ratings.sort(key=lambda x: x[1], reverse=True)\n",
    "        top_n[uid] = user_ratings[:n]\n",
    "\n",
    "    return top_n\n",
    "\n",
    "top_n = get_top_n(predictions, n=10)\n",
    "\n",
    "# Print the recommended items for each user\n",
    "for uid, user_ratings in top_n.items():\n",
    "    if uid == 2:\n",
    "        print(uid, [check.loc[iid] for (iid, _) in user_ratings]) #Here the model is referring to the anime_id on the check data-set for displaying the title"
   ]
  },
  {
   "cell_type": "markdown",
   "metadata": {},
   "source": [
    "The code above shows the top ten movie predictions for user_2 with all the details displayed"
   ]
  },
  {
   "cell_type": "code",
   "execution_count": 231,
   "metadata": {
    "scrolled": true
   },
   "outputs": [
    {
     "name": "stdout",
     "output_type": "stream",
     "text": [
      "Computing the msd similarity matrix...\n",
      "Done computing similarity matrix.\n",
      "Computing the msd similarity matrix...\n",
      "Done computing similarity matrix.\n",
      "Computing the msd similarity matrix...\n",
      "Done computing similarity matrix.\n",
      "Evaluating MAE, RMSE of algorithm KNNBasic on 3 split(s).\n",
      "\n",
      "                  Fold 1  Fold 2  Fold 3  Mean    Std     \n",
      "MAE (testset)     3.2548  3.2568  3.2254  3.2457  0.0143  \n",
      "RMSE (testset)    3.6114  3.6127  3.5858  3.6033  0.0124  \n",
      "Fit time          0.06    0.07    0.08    0.07    0.01    \n",
      "Test time         0.86    0.91    0.89    0.89    0.02    \n"
     ]
    },
    {
     "data": {
      "text/plain": [
       "{'test_mae': array([3.25482967, 3.25678985, 3.22543174]),\n",
       " 'test_rmse': array([3.61135514, 3.61274823, 3.58576223]),\n",
       " 'fit_time': (0.06279563903808594, 0.06881570816040039, 0.08283615112304688),\n",
       " 'test_time': (0.8597018718719482, 0.9115936756134033, 0.8896505832672119)}"
      ]
     },
     "execution_count": 231,
     "metadata": {},
     "output_type": "execute_result"
    }
   ],
   "source": [
    "#Evaluate accuracy\n",
    "# MAE = mean absolute error, RMSE = root mean squared error\n",
    "cross_validate(algo, data, measures=['MAE', 'RMSE'], cv=3, verbose=True)\n"
   ]
  },
  {
   "cell_type": "markdown",
   "metadata": {},
   "source": [
    " 2 -The Algorithm displayed a MemoryError: Unable to allocate 40.3 GiB for an array with shape (73515, 73515) and data type float64. This is because windows hardware does not allow computation for the magnitude of the data being processed at a time.\n",
    "-This was Solved by selecting only part of the data for training the model\n",
    " 3 - The files can be merged by selecting the anime_id as index_col of a similar data_set and referring to that based on the predictions from the model."
   ]
  }
 ],
 "metadata": {
  "hide_input": false,
  "kernelspec": {
   "display_name": "Python 3",
   "language": "python",
   "name": "python3"
  },
  "language_info": {
   "codemirror_mode": {
    "name": "ipython",
    "version": 3
   },
   "file_extension": ".py",
   "mimetype": "text/x-python",
   "name": "python",
   "nbconvert_exporter": "python",
   "pygments_lexer": "ipython3",
   "version": "3.7.4"
  },
  "latex_envs": {
   "LaTeX_envs_menu_present": true,
   "autoclose": false,
   "autocomplete": true,
   "bibliofile": "biblio.bib",
   "cite_by": "apalike",
   "current_citInitial": 1,
   "eqLabelWithNumbers": true,
   "eqNumInitial": 1,
   "hotkeys": {
    "equation": "Ctrl-E",
    "itemize": "Ctrl-I"
   },
   "labels_anchors": false,
   "latex_user_defs": false,
   "report_style_numbering": false,
   "user_envs_cfg": false
  },
  "toc": {
   "base_numbering": 1,
   "nav_menu": {},
   "number_sections": true,
   "sideBar": true,
   "skip_h1_title": false,
   "title_cell": "Table of Contents",
   "title_sidebar": "Contents",
   "toc_cell": false,
   "toc_position": {},
   "toc_section_display": true,
   "toc_window_display": false
  }
 },
 "nbformat": 4,
 "nbformat_minor": 2
}
